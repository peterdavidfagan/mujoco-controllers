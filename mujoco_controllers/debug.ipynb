{
 "cells": [
  {
   "cell_type": "code",
   "execution_count": 1,
   "id": "c33929f2-767a-4030-b0af-23457f19c1fb",
   "metadata": {},
   "outputs": [
    {
     "name": "stderr",
     "output_type": "stream",
     "text": [
      "/home/peter/.cache/pypoetry/virtualenvs/mujoco-controllers-OtSPoWZf-py3.10/lib/python3.10/site-packages/hydra/_internal/defaults_list.py:251: UserWarning: In 'controller_tuning': Defaults list is missing `_self_`. See https://hydra.cc/docs/1.2/upgrades/1.0_to_1.1/default_composition_order for more information\n",
      "  warnings.warn(msg, UserWarning)\n"
     ]
    }
   ],
   "source": [
    "from typing import Tuple\n",
    "import numpy as np\n",
    "\n",
    "import mujoco\n",
    "from mujoco import viewer\n",
    "\n",
    "from dm_control import composer, mjcf\n",
    "from dm_robotics.moma.models.arenas import empty\n",
    "from dm_robotics.moma import robot\n",
    "\n",
    "from hydra import compose, initialize\n",
    "from hydra.utils import instantiate\n",
    "\n",
    "\n",
    "# load different robot configurations\n",
    "initialize(version_base=None, config_path=\"./config\", job_name=\"default_config\")\n",
    "POSITION_CONFIG = compose(config_name=\"controller_tuning\", overrides=[\"robots=default\"])\n",
    "VELOCITY_CONFIG = compose(config_name=\"controller_tuning\", overrides=[\"robots=velocity\"])\n",
    "MOTOR_CONFIG = compose(config_name=\"controller_tuning\", overrides=[\"robots=motor\"])\n",
    "\n",
    "# For now assign default cfg\n",
    "cfg = MOTOR_CONFIG"
   ]
  },
  {
   "cell_type": "markdown",
   "id": "679ece36-cff3-41a1-b862-fb6dfb8a665a",
   "metadata": {},
   "source": [
    "## Load Scene"
   ]
  },
  {
   "cell_type": "code",
   "execution_count": 2,
   "id": "44a4bcfe-f0a4-4215-98d1-377a273129cd",
   "metadata": {},
   "outputs": [
    {
     "name": "stdout",
     "output_type": "stream",
     "text": [
      "Adding actuator for joint: joint1\n",
      "Adding actuator for joint: joint2\n",
      "Adding actuator for joint: joint3\n",
      "Adding actuator for joint: joint4\n",
      "Adding actuator for joint: joint5\n",
      "Adding actuator for joint: joint6\n",
      "Adding actuator for joint: joint7\n",
      "Adding sensor for joint: pos_joint1\n",
      "Adding sensor for joint: pos_joint2\n",
      "Adding sensor for joint: pos_joint3\n",
      "Adding sensor for joint: pos_joint4\n",
      "Adding sensor for joint: pos_joint5\n",
      "Adding sensor for joint: pos_joint6\n",
      "Adding sensor for joint: pos_joint7\n"
     ]
    }
   ],
   "source": [
    "def build_arena(name: str) -> composer.Arena:\n",
    "    \"\"\"Build a MuJoCo arena.\"\"\"\n",
    "    arena = empty.Arena(name=name)\n",
    "    arena.mjcf_model.option.timestep = 0.0001\n",
    "    arena.mjcf_model.option.gravity = (0.0, 0.0, -9.8)\n",
    "    arena.mjcf_model.size.nconmax = 1000\n",
    "    arena.mjcf_model.size.njmax = 2000\n",
    "    arena.mjcf_model.visual.__getattr__(\"global\").offheight = 640\n",
    "    arena.mjcf_model.visual.__getattr__(\"global\").offwidth = 640\n",
    "    arena.mjcf_model.visual.map.znear = 0.0005\n",
    "    return arena\n",
    "\n",
    "\n",
    "def add_robot_and_gripper(arena: composer.Arena, arm, gripper) -> Tuple[composer.Entity, composer.Entity]:\n",
    "    \"\"\"Add a robot and gripper to the arena.\"\"\"\n",
    "    # attach the gripper to the robot\n",
    "    robot.standard_compose(arm=arm, gripper=gripper)\n",
    "\n",
    "    # define robot base site\n",
    "    robot_base_site = arena.mjcf_model.worldbody.add(\n",
    "        \"site\",\n",
    "        name=\"robot_base\",\n",
    "        pos=(0.0, 0.0, 0.0),\n",
    "    )\n",
    "\n",
    "    # add the robot and gripper to the arena\n",
    "    arena.attach(arm, robot_base_site)\n",
    "\n",
    "    return arm, gripper\n",
    "\n",
    "# build the base arena\n",
    "arena = build_arena(\"base_scene\")\n",
    "\n",
    "# add robot arm and gripper to the arena\n",
    "arm = instantiate(cfg.robots.arm)\n",
    "gripper = instantiate(cfg.robots.gripper)\n",
    "arm, gripper = add_robot_and_gripper(arena, arm, gripper)\n",
    "\n",
    "physics = mjcf.Physics.from_mjcf_model(arena.mjcf_model)\n",
    "\n",
    "# set the default joint positions\n",
    "    # <joint name=\"panda_joint1\" value=\"0\"/>\n",
    "    # <joint name=\"panda_joint2\" value=\"-0.785\"/>\n",
    "    # <joint name=\"panda_joint3\" value=\"0\"/>\n",
    "    # <joint name=\"panda_joint4\" value=\"-2.356\"/>\n",
    "    # <joint name=\"panda_joint5\" value=\"0\"/>\n",
    "    # <joint name=\"panda_joint6\" value=\"1.571\"/>\n",
    "    # <joint name=\"panda_joint7\" value=\"0.785\"/>\n",
    "physics.data.qpos[:7] = np.array([0, -0.785, 0, -2.356, 0, 1.571, 0.785])\n",
    "\n",
    "# launch passive viewer\n",
    "#viewer.launch_passive(physics.model._model, physics.data._data)"
   ]
  },
  {
   "cell_type": "code",
   "execution_count": 3,
   "id": "2f1f9c53-3f9e-4bf0-8904-39b8f726cdee",
   "metadata": {},
   "outputs": [],
   "source": [
    "viewer.launch(physics.model._model, physics.data._data)"
   ]
  },
  {
   "cell_type": "code",
   "execution_count": null,
   "id": "248a1a76-301e-47f2-adcd-c874a6bd4f58",
   "metadata": {},
   "outputs": [],
   "source": []
  }
 ],
 "metadata": {
  "kernelspec": {
   "display_name": "Python 3 (ipykernel)",
   "language": "python",
   "name": "python3"
  },
  "language_info": {
   "codemirror_mode": {
    "name": "ipython",
    "version": 3
   },
   "file_extension": ".py",
   "mimetype": "text/x-python",
   "name": "python",
   "nbconvert_exporter": "python",
   "pygments_lexer": "ipython3",
   "version": "3.10.6"
  }
 },
 "nbformat": 4,
 "nbformat_minor": 5
}
