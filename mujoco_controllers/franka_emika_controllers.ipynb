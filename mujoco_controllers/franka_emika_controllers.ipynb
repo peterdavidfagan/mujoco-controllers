{
 "cells": [
  {
   "cell_type": "code",
   "execution_count": 2,
   "id": "c33929f2-767a-4030-b0af-23457f19c1fb",
   "metadata": {},
   "outputs": [
    {
     "name": "stderr",
     "output_type": "stream",
     "text": [
      "/home/peter/.cache/pypoetry/virtualenvs/rearrangement-benchmark-Ap67guR8-py3.10/lib/python3.10/site-packages/ikpy/chain.py:60: UserWarning: Link Base link (index: 0) is of type 'fixed' but set as active in the active_links_mask. In practice, this fixed link doesn't provide any transformation so is as it were inactive\n",
      "  warnings.warn(\"Link {} (index: {}) is of type 'fixed' but set as active in the active_links_mask. In practice, this fixed link doesn't provide any transformation so is as it were inactive\".format(link.name, link_index))\n",
      "/home/peter/.cache/pypoetry/virtualenvs/rearrangement-benchmark-Ap67guR8-py3.10/lib/python3.10/site-packages/ikpy/chain.py:60: UserWarning: Link panda_joint8 (index: 8) is of type 'fixed' but set as active in the active_links_mask. In practice, this fixed link doesn't provide any transformation so is as it were inactive\n",
      "  warnings.warn(\"Link {} (index: {}) is of type 'fixed' but set as active in the active_links_mask. In practice, this fixed link doesn't provide any transformation so is as it were inactive\".format(link.name, link_index))\n"
     ]
    }
   ],
   "source": [
    "from typing import Tuple\n",
    "\n",
    "import numpy as np\n",
    "from scipy.spatial.transform import Rotation as R\n",
    "import pandas as pd\n",
    "\n",
    "import mujoco\n",
    "from mujoco import viewer\n",
    "\n",
    "from dm_control import composer, mjcf\n",
    "from dm_robotics.moma.models.arenas import empty\n",
    "from dm_robotics.moma import robot\n",
    "\n",
    "from rearrangement_benchmark.env_components.props import Rectangle\n",
    "\n",
    "from ikpy.chain import Chain\n",
    "\n",
    "from hydra import compose, initialize\n",
    "from hydra.utils import instantiate\n",
    "\n",
    "\n",
    "# load different robot configurations\n",
    "initialize(version_base=None, config_path=\"./config\", job_name=\"default_config\")\n",
    "POSITION_CONFIG = compose(config_name=\"controller_tuning\", overrides=[\"robots=default\"])\n",
    "VELOCITY_CONFIG = compose(config_name=\"controller_tuning\", overrides=[\"robots=velocity\"])\n",
    "MOTOR_CONFIG = compose(config_name=\"controller_tuning\", overrides=[\"robots=motor\"])\n",
    "IKPY_URDF_PATH = \"./models/arms/robot.urdf\"\n",
    "\n",
    "# For now assign default cfg\n",
    "cfg = MOTOR_CONFIG\n",
    "kinematic_chain = Chain.from_urdf_file(IKPY_URDF_PATH, base_elements=[\"panda_link0\"]) \n",
    "\n",
    "# save default configs \n",
    "ready_config = np.array([0, -0.785, 0, -2.356, 0, 1.571, 0.785])\n",
    "grasp_pose_config = np.array([-3.95380744e-04,  2.37985323e-01,  3.52180384e-04, -2.55912981e+00,\n",
    " -2.42755642e-04,  2.79711454e+00,  7.85573570e-01])"
   ]
  },
  {
   "cell_type": "markdown",
   "id": "392434c6-8051-43d3-9125-66b934ba7871",
   "metadata": {},
   "source": [
    "# Building Controllers on Torque Actuator\n",
    "\n",
    "Example of running a controller that interacts with the motor actuator model."
   ]
  },
  {
   "cell_type": "markdown",
   "id": "679ece36-cff3-41a1-b862-fb6dfb8a665a",
   "metadata": {},
   "source": [
    "## Load Scene"
   ]
  },
  {
   "cell_type": "code",
   "execution_count": 3,
   "id": "44a4bcfe-f0a4-4215-98d1-377a273129cd",
   "metadata": {},
   "outputs": [
    {
     "name": "stdout",
     "output_type": "stream",
     "text": [
      "Adding actuator for joint: joint1\n",
      "Adding actuator for joint: joint2\n",
      "Adding actuator for joint: joint3\n",
      "Adding actuator for joint: joint4\n",
      "Adding actuator for joint: joint5\n",
      "Adding actuator for joint: joint6\n",
      "Adding actuator for joint: joint7\n",
      "Adding sensor for joint: pos_joint1\n",
      "Adding sensor for joint: pos_joint2\n",
      "Adding sensor for joint: pos_joint3\n",
      "Adding sensor for joint: pos_joint4\n",
      "Adding sensor for joint: pos_joint5\n",
      "Adding sensor for joint: pos_joint6\n",
      "Adding sensor for joint: pos_joint7\n"
     ]
    }
   ],
   "source": [
    "def build_arena(name: str) -> composer.Arena:\n",
    "    \"\"\"Build a MuJoCo arena.\"\"\"\n",
    "    arena = empty.Arena(name=name)\n",
    "    arena.mjcf_model.option.timestep = 0.0001\n",
    "    arena.mjcf_model.option.gravity = (0.0, 0.0, -9.8)\n",
    "    arena.mjcf_model.size.nconmax = 1000\n",
    "    arena.mjcf_model.size.njmax = 2000\n",
    "    arena.mjcf_model.visual.__getattr__(\"global\").offheight = 640\n",
    "    arena.mjcf_model.visual.__getattr__(\"global\").offwidth = 640\n",
    "    arena.mjcf_model.visual.map.znear = 0.0005\n",
    "    return arena\n",
    "\n",
    "\n",
    "def add_robot_and_gripper(arena: composer.Arena, arm, gripper) -> Tuple[composer.Entity, composer.Entity]:\n",
    "    \"\"\"Add a robot and gripper to the arena.\"\"\"\n",
    "    # attach the gripper to the robot\n",
    "    robot.standard_compose(arm=arm, gripper=gripper)\n",
    "\n",
    "    # define robot base site\n",
    "    robot_base_site = arena.mjcf_model.worldbody.add(\n",
    "        \"site\",\n",
    "        name=\"robot_base\",\n",
    "        pos=(0.0, 0.0, 0.0),\n",
    "    )\n",
    "\n",
    "    # add the robot and gripper to the arena\n",
    "    arena.attach(arm, robot_base_site)\n",
    "\n",
    "    return arm, gripper\n",
    "\n",
    "# build the base arena\n",
    "arena = build_arena(\"base_scene\")\n",
    "\n",
    "# add robot arm and gripper to the arena\n",
    "arm = instantiate(cfg.robots.arm)\n",
    "gripper = instantiate(cfg.robots.gripper)\n",
    "arm, gripper = add_robot_and_gripper(arena, arm, gripper)\n",
    "\n",
    "# add a block \n",
    "rectangle = Rectangle(name=\"cube\",\n",
    "                      x_len=0.02,\n",
    "                      y_len=0.02,\n",
    "                      z_len=0.02,\n",
    "                      rgba=(1.0, 0.0, 0.0, 1.0))\n",
    "frame = arena.add_free_entity(rectangle)\n",
    "rectangle.set_freejoint(frame.freejoint)\n",
    "\n",
    "\n",
    "physics = mjcf.Physics.from_mjcf_model(arena.mjcf_model)\n",
    "\n",
    "# set the default arm joint positions to ready\n",
    "physics.data.qpos[:7] = ready_config\n",
    "rectangle.set_pose(physics, position=np.array([0.45,0.0,0.02]), quaternion=np.array([0.0, 0.0, 0.0, 1.0]))\n",
    "\n",
    "\n",
    "# add a cube to the scene\n",
    "\n",
    "\n",
    "# launch passive viewer\n",
    "passive_view = viewer.launch_passive(physics.model._model, physics.data._data)"
   ]
  },
  {
   "cell_type": "markdown",
   "id": "7499a10a-1560-4f5b-9137-302235af9a93",
   "metadata": {},
   "source": [
    "## Try Stepping Simulation"
   ]
  },
  {
   "cell_type": "code",
   "execution_count": null,
   "id": "248a1a76-301e-47f2-adcd-c874a6bd4f58",
   "metadata": {},
   "outputs": [],
   "source": [
    "# UNCOMMENT TO TRY THIS CODE\n",
    "# physics.reset()\n",
    "# physics.data.qpos[:7] = np.array([0, -0.785, 0, -2.356, 0, 1.571, 0.785])\n",
    "# while True:\n",
    "#     physics.set_control(np.ones(8)*80)\n",
    "#     physics.step()\n",
    "#     passive_view.sync()"
   ]
  },
  {
   "cell_type": "markdown",
   "id": "2aa13b5f-ae23-4a06-b4aa-2673769d6588",
   "metadata": {},
   "source": [
    "## Implement and Test Arm Controller"
   ]
  },
  {
   "cell_type": "code",
   "execution_count": null,
   "id": "eeb74895-9107-4f3e-9099-a1f016e510e3",
   "metadata": {},
   "outputs": [
    {
     "name": "stderr",
     "output_type": "stream",
     "text": [
      "/tmp/ipykernel_49971/4236399212.py:31: FutureWarning: The behavior of DataFrame concatenation with empty or all-NA entries is deprecated. In a future version, this will no longer exclude empty or all-NA columns when determining the result dtypes. To retain the old behavior, exclude the relevant entries before the concat operation.\n",
      "  joint_pos_data = pd.concat([joint_pos_data, pd.DataFrame([current_joint_position], columns=joint_pos_data.columns)], ignore_index=True)\n",
      "/tmp/ipykernel_49971/4236399212.py:32: FutureWarning: The behavior of DataFrame concatenation with empty or all-NA entries is deprecated. In a future version, this will no longer exclude empty or all-NA columns when determining the result dtypes. To retain the old behavior, exclude the relevant entries before the concat operation.\n",
      "  joint_vel_data = pd.concat([joint_vel_data, pd.DataFrame([current_joint_velocity], columns=joint_vel_data.columns)], ignore_index=True)\n"
     ]
    }
   ],
   "source": [
    "physics.reset()\n",
    "physics.data.qpos[:7] = np.array([0, -0.785, 0, -2.356, 0, 1.571, 0.785])\n",
    "rectangle.set_pose(physics, position=np.array([0.45,0.0,0.02]), quaternion=np.array([0.0, 0.0, 0.0, 1.0]))\n",
    "\n",
    "# come up with targets\n",
    "target_eef_pose = kinematic_chain.forward_kinematics(\n",
    "                joints = np.array([0.0, -2.0, -0.785, 0.0, -2.356, 0.0, 1.571, 0.785, 0.0]),\n",
    "                full_kinematics = False,\n",
    "                )[:3, 3]\n",
    "target_orientation = R.from_euler('xyz', [0, 180, 0], degrees=True).as_matrix()\n",
    "\n",
    "# convert to joint target\n",
    "joint_target = kinematic_chain.inverse_kinematics(\n",
    "            target_position = target_eef_pose,\n",
    "            target_orientation = target_orientation,\n",
    "            orientation_mode = \"all\",\n",
    "            initial_position = np.array([0.0, 0.0, -0.785, 0.0, -2.356, 0.0, 1.571, 0.785, 0.0]),\n",
    "            )[1:-1]\n",
    "\n",
    "# PD control with inverse dynamics\n",
    "kp = 200\n",
    "kd = 100\n",
    "duration = 5.0\n",
    "\n",
    "joint_pos_data = pd.DataFrame(columns=[\"joint_1\", \"joint_2\", \"joint_3\", \"joint_4\", \"joint_5\", \"joint_6\", \"joint_7\"])\n",
    "joint_vel_data = pd.DataFrame(columns=[\"joint_1\", \"joint_2\", \"joint_3\", \"joint_4\", \"joint_5\", \"joint_6\", \"joint_7\"])\n",
    "\n",
    "while physics.data.time < duration:\n",
    "    current_joint_position = physics.data.qpos[:7]\n",
    "    current_joint_velocity = physics.data.qvel[:7]\n",
    "    joint_pos_data = pd.concat([joint_pos_data, pd.DataFrame([current_joint_position], columns=joint_pos_data.columns)], ignore_index=True) \n",
    "    joint_vel_data = pd.concat([joint_vel_data, pd.DataFrame([current_joint_velocity], columns=joint_vel_data.columns)], ignore_index=True)\n",
    "    \n",
    "    # calculate acceleration\n",
    "    target_acc = kp * (joint_target - current_joint_position) - kd * current_joint_velocity\n",
    "    prev = current_joint_velocity.copy()\n",
    "\n",
    "    # calculate torque\n",
    "    physics.data.qacc[:7] = target_acc\n",
    "    mujoco.mj_inverse(physics.model._model, physics.data._data)\n",
    "    sol = physics.data.qfrc_inverse[:7].copy()\n",
    "    physics.data.qacc[:7] = prev\n",
    "\n",
    "    # apply torque and update physics\n",
    "    sol = np.concatenate([sol, [255.0]])\n",
    "    physics.set_control(sol)\n",
    "    physics.step()\n",
    "    passive_view.sync()\n",
    "\n",
    "\n",
    "# plot control curves\n",
    "# plot joint angles and velocities\n",
    "import plotly.graph_objects as go\n",
    "from plotly.subplots import make_subplots\n",
    "\n",
    "fig_pos = make_subplots(rows=3, cols=3, vertical_spacing=0.02)\n",
    "fig_pos.add_trace(go.Scatter(y=joint_pos_data[\"joint_1\"], name=\"joint_1\"), row=1, col=1)\n",
    "fig_pos.add_trace(go.Scatter(y=joint_pos_data[\"joint_2\"], name=\"joint_2\"), row=1, col=2)\n",
    "fig_pos.add_trace(go.Scatter(y=joint_pos_data[\"joint_3\"], name=\"joint_3\"), row=1, col=3)\n",
    "fig_pos.add_trace(go.Scatter(y=joint_pos_data[\"joint_4\"], name=\"joint_4\"), row=2, col=1)\n",
    "fig_pos.add_trace(go.Scatter(y=joint_pos_data[\"joint_5\"], name=\"joint_5\"), row=2, col=2)\n",
    "fig_pos.add_trace(go.Scatter(y=joint_pos_data[\"joint_6\"], name=\"joint_6\"), row=2, col=3)\n",
    "fig_pos.add_trace(go.Scatter(y=joint_pos_data[\"joint_7\"], name=\"joint_7\"), row=3, col=1)\n",
    "fig_pos.update_layout(\n",
    "        height=600, \n",
    "        width=800, \n",
    "        title_text=\"Joint Angles\",\n",
    "        yaxis_title=\"Joint Angle (rad)\",\n",
    "        )\n",
    "\n",
    "# add constant reference line\n",
    "fig_pos.add_hline(y=joint_target[0], line_dash=\"dash\", row=1, col=1)\n",
    "fig_pos.add_hline(y=joint_target[1], line_dash=\"dash\", row=1, col=2)\n",
    "fig_pos.add_hline(y=joint_target[2], line_dash=\"dash\", row=1, col=3)\n",
    "fig_pos.add_hline(y=joint_target[3], line_dash=\"dash\", row=2, col=1)\n",
    "fig_pos.add_hline(y=joint_target[4], line_dash=\"dash\", row=2, col=2)\n",
    "fig_pos.add_hline(y=joint_target[5], line_dash=\"dash\", row=2, col=3)\n",
    "fig_pos.add_hline(y=joint_target[6], line_dash=\"dash\", row=3, col=1)\n",
    "\n",
    "\n",
    "fig_vel = make_subplots(rows=3, cols=3, vertical_spacing=0.02)\n",
    "fig_vel.add_trace(go.Scatter(y=joint_vel_data[\"joint_1\"], name=\"joint_1\"), row=1, col=1)\n",
    "fig_vel.add_trace(go.Scatter(y=joint_vel_data[\"joint_2\"], name=\"joint_2\"), row=1, col=2)\n",
    "fig_vel.add_trace(go.Scatter(y=joint_vel_data[\"joint_3\"], name=\"joint_3\"), row=1, col=3)\n",
    "fig_vel.add_trace(go.Scatter(y=joint_vel_data[\"joint_4\"], name=\"joint_4\"), row=2, col=1)\n",
    "fig_vel.add_trace(go.Scatter(y=joint_vel_data[\"joint_5\"], name=\"joint_5\"), row=2, col=2)\n",
    "fig_vel.add_trace(go.Scatter(y=joint_vel_data[\"joint_6\"], name=\"joint_6\"), row=2, col=3)\n",
    "fig_vel.add_trace(go.Scatter(y=joint_vel_data[\"joint_7\"], name=\"joint_7\"), row=3, col=1)\n",
    "fig_vel.update_layout(\n",
    "        height=600, \n",
    "        width=800, \n",
    "        title_text=\"Joint Velocities\",\n",
    "        yaxis_title=\"Joint Velocity (rad/s)\",\n",
    "        )\n",
    "\n",
    "fig_pos.show()\n",
    "fig_vel.show()"
   ]
  },
  {
   "cell_type": "markdown",
   "id": "56186a71-f96e-48a3-bf74-6b4868a53d22",
   "metadata": {},
   "source": [
    "## Test Grasp Controller"
   ]
  },
  {
   "cell_type": "code",
   "execution_count": null,
   "id": "2853f08e-2738-417d-8ba8-a070325a3e68",
   "metadata": {},
   "outputs": [],
   "source": [
    "physics.reset()\n",
    "physics.data.qpos[:7] = grasp_pose_config\n",
    "rectangle.set_pose(physics, position=np.array([0.45,0.0,0.02]), quaternion=np.array([0.0, 0.0, 0.0, 1.0]))\n",
    "\n",
    "joint_target = grasp_pose_config\n",
    "\n",
    "# PD control with inverse dynamics\n",
    "kp = 200\n",
    "kd = 100\n",
    "duration = 3.0\n",
    "\n",
    "while physics.data.time < duration:\n",
    "    current_joint_position = physics.data.qpos[:7]\n",
    "    current_joint_velocity = physics.data.qvel[:7]\n",
    "\n",
    "    # calculate acceleration\n",
    "    target_acc = kp * (joint_target - current_joint_position) - kd * current_joint_velocity\n",
    "    prev = current_joint_velocity.copy()\n",
    "\n",
    "    # calculate torque\n",
    "    physics.data.qacc[:7] = target_acc\n",
    "    mujoco.mj_inverse(physics.model._model, physics.data._data)\n",
    "    sol = physics.data.qfrc_inverse[:7].copy()\n",
    "    physics.data.qacc[:7] = prev\n",
    "\n",
    "    # apply torque and update physics\n",
    "    sol = np.concatenate([sol, [-255.0]])\n",
    "    physics.set_control(sol)\n",
    "    physics.step()\n",
    "    passive_view.sync()"
   ]
  },
  {
   "cell_type": "markdown",
   "id": "8d0e9fbc-d171-49b5-afdc-6ae672fa437b",
   "metadata": {},
   "source": [
    "# Automate Tuning of Actuator Params"
   ]
  },
  {
   "cell_type": "markdown",
   "id": "026ca582-6fa8-4d15-9339-969b19d610f2",
   "metadata": {},
   "source": [
    "## Position Actuator"
   ]
  },
  {
   "cell_type": "code",
   "execution_count": null,
   "id": "6f1a4e4b-2593-4b2c-abb7-791d43a20bfd",
   "metadata": {},
   "outputs": [],
   "source": []
  },
  {
   "cell_type": "markdown",
   "id": "0476109b-92e0-4639-97a3-ea856a4417d5",
   "metadata": {},
   "source": [
    "## Velocity Actuator"
   ]
  },
  {
   "cell_type": "code",
   "execution_count": null,
   "id": "a74d9efb-000c-4de2-8ff0-db2ef298a18b",
   "metadata": {},
   "outputs": [],
   "source": []
  }
 ],
 "metadata": {
  "kernelspec": {
   "display_name": "Python 3 (ipykernel)",
   "language": "python",
   "name": "python3"
  },
  "language_info": {
   "codemirror_mode": {
    "name": "ipython",
    "version": 3
   },
   "file_extension": ".py",
   "mimetype": "text/x-python",
   "name": "python",
   "nbconvert_exporter": "python",
   "pygments_lexer": "ipython3",
   "version": "3.10.6"
  }
 },
 "nbformat": 4,
 "nbformat_minor": 5
}
