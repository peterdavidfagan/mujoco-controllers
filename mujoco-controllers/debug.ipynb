{
 "cells": [
  {
   "cell_type": "code",
   "execution_count": 1,
   "id": "c33929f2-767a-4030-b0af-23457f19c1fb",
   "metadata": {},
   "outputs": [],
   "source": [
    "import mujoco\n",
    "from mujoco import viewer"
   ]
  },
  {
   "cell_type": "code",
   "execution_count": 2,
   "id": "1b5ce880-b01d-4853-9384-f38bf3ebbbd9",
   "metadata": {},
   "outputs": [
    {
     "data": {
      "text/plain": [
       "<mujoco.viewer.Handle at 0x7f906c3d1090>"
      ]
     },
     "execution_count": 2,
     "metadata": {},
     "output_type": "execute_result"
    }
   ],
   "source": [
    "# scene is copied manually to change camera position\n",
    "scene_xml = \"\"\"\n",
    "<mujoco model=\"iiwa14 scene\">\n",
    "  <include file=\"mujoco_menagerie/franka_emika_panda/panda_nohand.xml\"/>\n",
    "  <compiler meshdir=\"mujoco_menagerie/franka_emika_panda/assets\"/>\n",
    "\n",
    "  <statistic center=\"0.7 1 1\" extent=\"0.8\"/>\n",
    "\n",
    "  <visual>\n",
    "    <headlight diffuse=\"0.6 0.6 0.6\" ambient=\"0.3 0.3 0.3\" specular=\"0 0 0\"/>\n",
    "    <rgba haze=\"0.15 0.25 0.35 1\"/>\n",
    "    <global azimuth=\"-120\" elevation=\"-20\"/>\n",
    "  </visual>\n",
    "\n",
    "  <asset>\n",
    "    <texture type=\"skybox\" builtin=\"gradient\" rgb1=\"0.3 0.5 0.7\" rgb2=\"0 0 0\" width=\"512\" height=\"3072\"/>\n",
    "    <texture type=\"2d\" name=\"groundplane\" builtin=\"checker\" mark=\"edge\" rgb1=\"0.2 0.3 0.4\" rgb2=\"0.1 0.2 0.3\"\n",
    "      markrgb=\"0.8 0.8 0.8\" width=\"300\" height=\"300\"/>\n",
    "    <material name=\"groundplane\" texture=\"groundplane\" texuniform=\"true\" texrepeat=\"5 5\" reflectance=\"0.2\"/>\n",
    "  </asset>\n",
    "\n",
    "  <worldbody>\n",
    "    <light pos=\"0 0 1.5\" dir=\"0 0 -1\" directional=\"true\"/>\n",
    "    <geom name=\"floor\" size=\"0 0 0.05\" type=\"plane\" material=\"groundplane\"/>\n",
    "  </worldbody>\n",
    "\n",
    "</mujoco>\n",
    "\"\"\"\n",
    "\n",
    "model = mujoco.MjModel.from_xml_string(scene_xml)\n",
    "data = mujoco.MjData(model)\n",
    "\n",
    "viewer.launch_passive(model, data)"
   ]
  },
  {
   "cell_type": "code",
   "execution_count": null,
   "id": "96c6d4bd-11df-40a6-8302-0a3a8aba77e7",
   "metadata": {},
   "outputs": [],
   "source": []
  }
 ],
 "metadata": {
  "kernelspec": {
   "display_name": "Python 3 (ipykernel)",
   "language": "python",
   "name": "python3"
  },
  "language_info": {
   "codemirror_mode": {
    "name": "ipython",
    "version": 3
   },
   "file_extension": ".py",
   "mimetype": "text/x-python",
   "name": "python",
   "nbconvert_exporter": "python",
   "pygments_lexer": "ipython3",
   "version": "3.10.6"
  }
 },
 "nbformat": 4,
 "nbformat_minor": 5
}
